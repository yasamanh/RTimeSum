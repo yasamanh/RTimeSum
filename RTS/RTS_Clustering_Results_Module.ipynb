{
 "cells": [
  {
   "cell_type": "code",
   "execution_count": 3,
   "metadata": {},
   "outputs": [],
   "source": [
    "import pandas as pd\n",
    "import csv\n",
    "from operator import itemgetter\n",
    "from itertools import groupby\n",
    "import os"
   ]
  },
  {
   "cell_type": "code",
   "execution_count": 65,
   "metadata": {},
   "outputs": [
    {
     "name": "stdout",
     "output_type": "stream",
     "text": [
      "10  size:  365\n",
      "unclustered found\n",
      "[10, 'RTS', 74, 761287353067503616, 761287353067503616, 'uncluster', 1472234110573]\n",
      "13  size:  159\n",
      "31  size:  51\n",
      "unclustered found\n",
      "[31, 'RTS', 5, 761295263529111552, 761295263529111552, 'uncluster', 1471878737902]\n"
     ]
    }
   ],
   "source": [
    "## sort values by time and remove duplicates that are not latest on tweet column\n",
    "## also checks if any unclustered tweet in the file\n",
    "## write the final clustered tweets into a separate file\n",
    "\n",
    "input_directory_path=\"/Users/ynh3/Documents/RTS/data/final_rts_results/temp/\"\n",
    "output_directory_path=\"/Users/ynh3/Documents/RTS/data/final_rts_results/final_topics_clusters/\"\n",
    "    \n",
    "for file in os.listdir(input_directory_path):\n",
    "    if (file == \".DS_Store\"):\n",
    "        continue\n",
    "    #print file\n",
    "    \n",
    "    cluster_file = open(input_directory_path+file,'r')\n",
    "    #cluster_file = open(\"/Users/ynh3/Documents/RTS/data/final_rts_results/clusters_assessors/37\", \"r\")\n",
    "    \n",
    "    preader = pd.read_csv(cluster_file, header = None, sep='\\t')\n",
    "    df = pd.DataFrame(preader)\n",
    "    df.columns = ['A','B','C','D','E','F','G']\n",
    "\n",
    "    new_sorted = df.sort_values(by='G')\n",
    "    result = new_sorted.drop_duplicates('E', keep='last')\n",
    "    print file, \" size: \", result.E.size\n",
    "    \n",
    "    # if any tweet has remained unclustered is in the list\n",
    "    if 'uncluster' in result.F.values:\n",
    "        print 'unclustered found'\n",
    "        uncluster_index = result[result['F'] == 'uncluster'].index.tolist()\n",
    "        for i in uncluster_index:\n",
    "            #print i, result.F.size\n",
    "            print result.ix[i].tolist()\n",
    "    \n",
    "    ## have to find the index of that uncluster item\n",
    "    ## Prepare to write to a file for Ellen \n",
    "    new_list = [(a,c,d) for a,b,c,d,e,f,g in result.values.tolist()]\n",
    "    new_list.sort(key=itemgetter(0,1))\n",
    "    new_list\n",
    "    o_file = output_directory_path + file\n",
    "\n",
    "\n",
    "    with open(o_file, 'w') as file:\n",
    "        for a,b,c in new_list:\n",
    "            file.write(\"{}\\t{}\\t{}\\n\".format(a,b,c))\n",
    "\n",
    "    "
   ]
  },
  {
   "cell_type": "code",
   "execution_count": 56,
   "metadata": {},
   "outputs": [
    {
     "data": {
      "text/plain": [
       "1"
      ]
     },
     "execution_count": 56,
     "metadata": {},
     "output_type": "execute_result"
    }
   ],
   "source": [
    "result.iloc[1].tolist()\n",
    "result.index[1]"
   ]
  },
  {
   "cell_type": "code",
   "execution_count": 34,
   "metadata": {},
   "outputs": [
    {
     "name": "stdout",
     "output_type": "stream",
     "text": [
      "representations.tsv\n"
     ]
    }
   ],
   "source": [
    "#a representation generator script, picks the last value for each representation column\n",
    "input_directory_path=\"/Users/ynh3/Documents/RTS/data/final_rts_results/originals/hschwartz/\"\n",
    "output_directory_path=\"/Users/ynh3/Documents/RTS/data/final_rts_results/final_topics_representations/\"\n",
    "    \n",
    "for file in os.listdir(input_directory_path):\n",
    "    if (file == \".DS_Store\"):\n",
    "        continue\n",
    "    if (\"representations\" in file):\n",
    "        print file\n",
    "  \n",
    "        rep_file = open(input_directory_path+file,'r')\n",
    "        #cluster_file = open(\"/Users/ynh3/Documents/RTS/data/final_rts_results/clusters_assessors/37\", \"r\")\n",
    "\n",
    "        preader = pd.read_csv(rep_file, header = None, sep='\\t')\n",
    "        df = pd.DataFrame(preader)\n",
    "        df.columns = ['A','B','C','D']\n",
    "\n",
    "        #new_sorted = df.sort_values(by='A')\n",
    "        result = df.drop_duplicates(subset=['A', 'C'], keep='last')\n",
    "        #print file, \" size: \", result.E.size'''\n",
    "    \n",
    "        new_list = [(a,c,d) for a,b,c,d in result.values.tolist()]\n",
    "        new_list.sort(key=itemgetter(0,1))\n",
    "        new_list\n",
    "        o_file = output_directory_path + file\n",
    "\n",
    "\n",
    "        with open(o_file, 'w') as file:\n",
    "            for a,b,c in new_list:\n",
    "                file.write(\"{}\\t{}\\t{}\\n\".format(a,b,c))"
   ]
  },
  {
   "cell_type": "code",
   "execution_count": 21,
   "metadata": {},
   "outputs": [],
   "source": []
  },
  {
   "cell_type": "code",
   "execution_count": null,
   "metadata": {},
   "outputs": [],
   "source": []
  }
 ],
 "metadata": {
  "kernelspec": {
   "display_name": "Python 2",
   "language": "python",
   "name": "python2"
  },
  "language_info": {
   "codemirror_mode": {
    "name": "ipython",
    "version": 2
   },
   "file_extension": ".py",
   "mimetype": "text/x-python",
   "name": "python",
   "nbconvert_exporter": "python",
   "pygments_lexer": "ipython2",
   "version": "2.7.13"
  }
 },
 "nbformat": 4,
 "nbformat_minor": 1
}
