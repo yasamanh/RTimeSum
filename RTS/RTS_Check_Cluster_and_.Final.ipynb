{
 "cells": [
  {
   "cell_type": "code",
   "execution_count": 3,
   "metadata": {},
   "outputs": [
    {
     "name": "stdout",
     "output_type": "stream",
     "text": [
      "('microblog171.final: total number of relevant > 0 is:', 107)\n",
      "('microblog182.final: total number of relevant > 0 is:', 616)\n",
      "('microblog195.final: total number of relevant > 0 is:', 461)\n",
      "('rts19.final: total number of relevant > 0 is:', 1)\n",
      "('rts21.final: total number of relevant > 0 is:', 30)\n",
      "('rts27.final: total number of relevant > 0 is:', 35)\n",
      "('rts37.final: total number of relevant > 0 is:', 84)\n",
      "('rts37_1.final: total number of relevant > 0 is:', 84)\n",
      "('rts4.final: total number of relevant > 0 is:', 30)\n",
      "('rts43.final: total number of relevant > 0 is:', 192)\n"
     ]
    }
   ],
   "source": [
    "import os\n",
    "\n",
    "file_path=\"/Users/ynh3/Documents/RTS/data/final/\"\n",
    "\n",
    "    \n",
    "for file in os.listdir(file_path):\n",
    "    if (file == \".DS_Store\"):\n",
    "        continue\n",
    "\n",
    "    final_file = open(file_path+\"/\"+file, \"r\")\n",
    "\n",
    "    data=[]\n",
    "    n=0\n",
    "    i=0\n",
    "    for line in final_file:\n",
    "        data.append(line.replace('\\n','').split('\\t'))\n",
    "    n = sum(1 for i in range(len(data)) if int(data[i][0].split(' ')[7]) > 0)   \n",
    "    print (file + \": total number of relevant > 0 is:\", n)\n"
   ]
  },
  {
   "cell_type": "code",
   "execution_count": 57,
   "metadata": {},
   "outputs": [
    {
     "name": "stdout",
     "output_type": "stream",
     "text": [
      "final file size: 161\n",
      "cluster file size: 158\n",
      "These tweets where not found:  ['761426020935303168', '761652714669473792', '763578781047123968']\n"
     ]
    }
   ],
   "source": [
    "#compare final cluster file for each topic and .final for that topic to see if we are covering all the relevant tweets in the cluster file. \n",
    "cluster_file = open(\"/Users/ynh3/Documents/RTS/data/final_rts_results/final_topics_clusters/13\", \"r\") \n",
    "final_file = open(\"/Users/ynh3/Documents/RTS/data/final_rts_results/suspects/rts13.final\",\"r\")\n",
    "\n",
    "data_final=[]\n",
    "data_cluster=[]\n",
    "n=0\n",
    "i=0\n",
    "for line in final_file:\n",
    "    data_final.append(line.replace('\\n','').split(' '))\n",
    "\n",
    "for line in cluster_file:\n",
    "    data_cluster.append(line.replace('\\n','').split('\\t'))\n",
    "\n",
    "    \n",
    "tweet_final = [e for a,b,c,d,e,f,g,h,i in data_final if int(h)>0]\n",
    "print \"final file size:\", len(tweet_final)\n",
    "tweet_cluster = [c for a,b,c in data_cluster]\n",
    "print \"cluster file size:\", len(tweet_cluster)\n",
    "diff = [item for item in tweet_final if item not in tweet_cluster]\n",
    "if len(diff) > 0:\n",
    "    print \"These tweets where not found: \", diff\n"
   ]
  },
  {
   "cell_type": "code",
   "execution_count": 45,
   "metadata": {},
   "outputs": [
    {
     "name": "stdout",
     "output_type": "stream",
     "text": [
      "yes\n"
     ]
    }
   ],
   "source": [
    "if '761742019790303232' in tweet_cluster:\n",
    "    print \"yes\""
   ]
  },
  {
   "cell_type": "code",
   "execution_count": null,
   "metadata": {},
   "outputs": [],
   "source": []
  }
 ],
 "metadata": {
  "kernelspec": {
   "display_name": "Python 3",
   "language": "python",
   "name": "python3"
  },
  "language_info": {
   "codemirror_mode": {
    "name": "ipython",
    "version": 3
   },
   "file_extension": ".py",
   "mimetype": "text/x-python",
   "name": "python",
   "nbconvert_exporter": "python",
   "pygments_lexer": "ipython3",
   "version": "3.6.1"
  }
 },
 "nbformat": 4,
 "nbformat_minor": 1
}
