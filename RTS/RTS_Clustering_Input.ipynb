{
 "metadata": {
  "name": "",
  "signature": "sha256:6d795125049a5294297be0fdf57073231a40cce018752f595789813764900167"
 },
 "nbformat": 3,
 "nbformat_minor": 0,
 "worksheets": [
  {
   "cells": [
    {
     "cell_type": "code",
     "collapsed": false,
     "input": [
      "import os"
     ],
     "language": "python",
     "metadata": {},
     "outputs": [],
     "prompt_number": 2
    },
    {
     "cell_type": "code",
     "collapsed": false,
     "input": [
      "# How many relevant > 0 each .final file\n",
      "\n",
      "file_path=\"/Users/ynh3/Documents/RTS/data/final\"\n",
      "    \n",
      "for file in os.listdir(file_path):\n",
      "    if (file == \".DS_Store\"):\n",
      "        continue\n",
      "\n",
      "    final_file = open(file_path+\"/\"+file, \"r\")\n",
      "\n",
      "    data=[]\n",
      "    n=0\n",
      "    i=0\n",
      "    for line in final_file:\n",
      "        data.append(line.replace('\\n','').split('\\t'))\n",
      "    n = sum(1 for i in range(len(data)) if int(data[i][0].split(' ')[7]) > 0)   \n",
      "    print (file + \": total number of relevant > 0 is:\", n)\n"
     ],
     "language": "python",
     "metadata": {},
     "outputs": [
      {
       "output_type": "stream",
       "stream": "stdout",
       "text": [
        "('microblog171.final: total number of relevant > 0 is:', 107)\n",
        "('microblog182.final: total number of relevant > 0 is:', 616)\n",
        "('microblog195.final: total number of relevant > 0 is:', 461)\n",
        "('rts19.final: total number of relevant > 0 is:', 1)\n",
        "('rts21.final: total number of relevant > 0 is:', 30)\n",
        "('rts27.final: total number of relevant > 0 is:', 35)\n",
        "('rts37.final: total number of relevant > 0 is:', 84)\n",
        "('rts4.final: total number of relevant > 0 is:', 30)\n",
        "('rts43.final: total number of relevant > 0 is:', 192)\n"
       ]
      }
     ],
     "prompt_number": 26
    },
    {
     "cell_type": "code",
     "collapsed": false,
     "input": [
      "##Generating RTS Clustering output topic.rts (or just topic) using input from topic.out.sort and rts44.final\n",
      "#Take the Rel > 0 and check with formatted file\n",
      "import csv \n",
      "import pdb\n",
      "import os\n",
      "        \n",
      "\n",
      "file_path=\"/Users/ynh3/Documents/RTS/data/\"\n",
      "    \n",
      "for file in os.listdir(file_path + \"2016_sorted/\"):\n",
      "    if (file == \".DS_Store\"):\n",
      "        continue\n",
      "\n",
      "    sorted_file = open(file_path + \"2016_sorted/\"+ file, \"r\")\n",
      "    #final_file = open(file_path+\"final/microblog\"+ file +\".final\")\n",
      "    final_file = open(file_path+\"2016_final/\"+ file+\".final\")\n",
      "\n",
      "    sorted_list=[]\n",
      "    for line in sorted_file:\n",
      "        sorted_list.append(line.replace('\\n','').split('\\t'))\n",
      "    \n",
      "    final_list=[]\n",
      "    for line in final_file:\n",
      "        final_list.append(line.replace('\\n','').split('\\t'))\n",
      "    \n",
      "    index = -1\n",
      "    count = 0\n",
      "    with open(file_path + '/2016_RTS_input/' + file, 'w') as f:\n",
      "        for i in range(0,len(final_list)):\n",
      "            try:\n",
      "                \n",
      "                index = -1\n",
      "                l = final_list[i][0].split(' ')\n",
      "                if (int(l[7])>0):\n",
      "                    if int(sorted_list[i][1])==int(l[4]):\n",
      "                        index = i\n",
      "                        count += 1\n",
      "            \n",
      "                        if index >= 0:\n",
      "                            str = '\\t'.join(x for x in (\"0\", file,\"RTS\", sorted_list[index][1], \"unknown\",\"undefined\",sorted_list[index][2]))\n",
      "                            f.write(\"{}\\n\".format(str))\n",
      "                            \n",
      "                    elif not int(sorted_list[i][1]) == int(l[4]):\n",
      "                        #pdb.set_trace()\n",
      "                        print \"not found this id in sort file:\", i, sorted_list[i][1], int(l[4])\n",
      "            except IndexError:\n",
      "                #pdb.set_trace()\n",
      "                print i\n",
      "                break\n",
      "        f.close()\n",
      "    print file + \": number of tweets judged as relevant > 0: \", count"
     ],
     "language": "python",
     "metadata": {},
     "outputs": [
      {
       "output_type": "stream",
       "stream": "stdout",
       "text": [
        "tMB226: number of tweets judged as relevant > 0:  7\n"
       ]
      }
     ],
     "prompt_number": 18
    },
    {
     "cell_type": "code",
     "collapsed": false,
     "input": [],
     "language": "python",
     "metadata": {},
     "outputs": [],
     "prompt_number": 17
    },
    {
     "cell_type": "code",
     "collapsed": false,
     "input": [],
     "language": "python",
     "metadata": {},
     "outputs": []
    }
   ],
   "metadata": {}
  }
 ]
}